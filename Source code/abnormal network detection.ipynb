{
 "cells": [
  {
   "cell_type": "code",
   "execution_count": 286,
   "metadata": {},
   "outputs": [],
   "source": [
    "import pandas as pd\n",
    "from sklearn.model_selection import StratifiedShuffleSplit"
   ]
  },
  {
   "cell_type": "markdown",
   "metadata": {},
   "source": [
    "1. Data Cleaning"
   ]
  },
  {
   "cell_type": "code",
   "execution_count": 287,
   "metadata": {},
   "outputs": [
    {
     "data": {
      "text/html": [
       "<div>\n",
       "<style scoped>\n",
       "    .dataframe tbody tr th:only-of-type {\n",
       "        vertical-align: middle;\n",
       "    }\n",
       "\n",
       "    .dataframe tbody tr th {\n",
       "        vertical-align: top;\n",
       "    }\n",
       "\n",
       "    .dataframe thead th {\n",
       "        text-align: right;\n",
       "    }\n",
       "</style>\n",
       "<table border=\"1\" class=\"dataframe\">\n",
       "  <thead>\n",
       "    <tr style=\"text-align: right;\">\n",
       "      <th></th>\n",
       "      <th>StartTime</th>\n",
       "      <th>Dur</th>\n",
       "      <th>Proto</th>\n",
       "      <th>SrcAddr</th>\n",
       "      <th>Sport</th>\n",
       "      <th>Dir</th>\n",
       "      <th>DstAddr</th>\n",
       "      <th>Dport</th>\n",
       "      <th>State</th>\n",
       "      <th>sTos</th>\n",
       "      <th>dTos</th>\n",
       "      <th>TotPkts</th>\n",
       "      <th>TotBytes</th>\n",
       "      <th>SrcBytes</th>\n",
       "      <th>Label</th>\n",
       "    </tr>\n",
       "  </thead>\n",
       "  <tbody>\n",
       "    <tr>\n",
       "      <th>0</th>\n",
       "      <td>46:53.2</td>\n",
       "      <td>0.000000</td>\n",
       "      <td>udp</td>\n",
       "      <td>147.32.80.9</td>\n",
       "      <td>53</td>\n",
       "      <td>-&gt;</td>\n",
       "      <td>147.32.86.111</td>\n",
       "      <td>54230</td>\n",
       "      <td>INT</td>\n",
       "      <td>0.0</td>\n",
       "      <td>NaN</td>\n",
       "      <td>1.0</td>\n",
       "      <td>141.0</td>\n",
       "      <td>141.0</td>\n",
       "      <td>0.0</td>\n",
       "    </tr>\n",
       "    <tr>\n",
       "      <th>1</th>\n",
       "      <td>46:54.0</td>\n",
       "      <td>0.000000</td>\n",
       "      <td>udp</td>\n",
       "      <td>147.32.80.9</td>\n",
       "      <td>53</td>\n",
       "      <td>-&gt;</td>\n",
       "      <td>147.32.86.111</td>\n",
       "      <td>58314</td>\n",
       "      <td>INT</td>\n",
       "      <td>0.0</td>\n",
       "      <td>NaN</td>\n",
       "      <td>1.0</td>\n",
       "      <td>247.0</td>\n",
       "      <td>247.0</td>\n",
       "      <td>0.0</td>\n",
       "    </tr>\n",
       "    <tr>\n",
       "      <th>2</th>\n",
       "      <td>46:54.5</td>\n",
       "      <td>0.000000</td>\n",
       "      <td>udp</td>\n",
       "      <td>147.32.80.9</td>\n",
       "      <td>53</td>\n",
       "      <td>-&gt;</td>\n",
       "      <td>147.32.86.111</td>\n",
       "      <td>54823</td>\n",
       "      <td>INT</td>\n",
       "      <td>0.0</td>\n",
       "      <td>NaN</td>\n",
       "      <td>1.0</td>\n",
       "      <td>173.0</td>\n",
       "      <td>173.0</td>\n",
       "      <td>0.0</td>\n",
       "    </tr>\n",
       "    <tr>\n",
       "      <th>3</th>\n",
       "      <td>46:54.8</td>\n",
       "      <td>0.000291</td>\n",
       "      <td>udp</td>\n",
       "      <td>147.32.84.134</td>\n",
       "      <td>40693</td>\n",
       "      <td>&lt;-&gt;</td>\n",
       "      <td>147.32.80.9</td>\n",
       "      <td>53</td>\n",
       "      <td>CON</td>\n",
       "      <td>0.0</td>\n",
       "      <td>0.0</td>\n",
       "      <td>2.0</td>\n",
       "      <td>207.0</td>\n",
       "      <td>72.0</td>\n",
       "      <td>0.0</td>\n",
       "    </tr>\n",
       "    <tr>\n",
       "      <th>4</th>\n",
       "      <td>46:54.8</td>\n",
       "      <td>0.000321</td>\n",
       "      <td>udp</td>\n",
       "      <td>147.32.84.134</td>\n",
       "      <td>47415</td>\n",
       "      <td>&lt;-&gt;</td>\n",
       "      <td>147.32.80.9</td>\n",
       "      <td>53</td>\n",
       "      <td>CON</td>\n",
       "      <td>0.0</td>\n",
       "      <td>0.0</td>\n",
       "      <td>2.0</td>\n",
       "      <td>247.0</td>\n",
       "      <td>72.0</td>\n",
       "      <td>0.0</td>\n",
       "    </tr>\n",
       "    <tr>\n",
       "      <th>...</th>\n",
       "      <td>...</td>\n",
       "      <td>...</td>\n",
       "      <td>...</td>\n",
       "      <td>...</td>\n",
       "      <td>...</td>\n",
       "      <td>...</td>\n",
       "      <td>...</td>\n",
       "      <td>...</td>\n",
       "      <td>...</td>\n",
       "      <td>...</td>\n",
       "      <td>...</td>\n",
       "      <td>...</td>\n",
       "      <td>...</td>\n",
       "      <td>...</td>\n",
       "      <td>...</td>\n",
       "    </tr>\n",
       "    <tr>\n",
       "      <th>11527</th>\n",
       "      <td>57:02.7</td>\n",
       "      <td>0.018193</td>\n",
       "      <td>tcp</td>\n",
       "      <td>147.32.84.170</td>\n",
       "      <td>55288</td>\n",
       "      <td>-&gt;</td>\n",
       "      <td>209.85.148.105</td>\n",
       "      <td>80</td>\n",
       "      <td>FSA_FSA</td>\n",
       "      <td>0.0</td>\n",
       "      <td>0.0</td>\n",
       "      <td>6.0</td>\n",
       "      <td>412.0</td>\n",
       "      <td>272.0</td>\n",
       "      <td>0.0</td>\n",
       "    </tr>\n",
       "    <tr>\n",
       "      <th>11528</th>\n",
       "      <td>57:05.4</td>\n",
       "      <td>0.000251</td>\n",
       "      <td>udp</td>\n",
       "      <td>147.32.84.170</td>\n",
       "      <td>54880</td>\n",
       "      <td>&lt;-&gt;</td>\n",
       "      <td>147.32.80.9</td>\n",
       "      <td>53</td>\n",
       "      <td>CON</td>\n",
       "      <td>0.0</td>\n",
       "      <td>0.0</td>\n",
       "      <td>2.0</td>\n",
       "      <td>244.0</td>\n",
       "      <td>81.0</td>\n",
       "      <td>0.0</td>\n",
       "    </tr>\n",
       "    <tr>\n",
       "      <th>11529</th>\n",
       "      <td>57:05.4</td>\n",
       "      <td>0.000472</td>\n",
       "      <td>udp</td>\n",
       "      <td>147.32.84.170</td>\n",
       "      <td>41615</td>\n",
       "      <td>&lt;-&gt;</td>\n",
       "      <td>147.32.80.9</td>\n",
       "      <td>53</td>\n",
       "      <td>CON</td>\n",
       "      <td>0.0</td>\n",
       "      <td>0.0</td>\n",
       "      <td>2.0</td>\n",
       "      <td>280.0</td>\n",
       "      <td>81.0</td>\n",
       "      <td>0.0</td>\n",
       "    </tr>\n",
       "    <tr>\n",
       "      <th>11530</th>\n",
       "      <td>57:05.4</td>\n",
       "      <td>0.382413</td>\n",
       "      <td>tcp</td>\n",
       "      <td>147.32.84.170</td>\n",
       "      <td>54758</td>\n",
       "      <td>-&gt;</td>\n",
       "      <td>195.24.233.55</td>\n",
       "      <td>80</td>\n",
       "      <td>FSPA_FSPA</td>\n",
       "      <td>0.0</td>\n",
       "      <td>0.0</td>\n",
       "      <td>10.0</td>\n",
       "      <td>1218.0</td>\n",
       "      <td>549.0</td>\n",
       "      <td>0.0</td>\n",
       "    </tr>\n",
       "    <tr>\n",
       "      <th>11531</th>\n",
       "      <td>57:05.9</td>\n",
       "      <td>0.000000</td>\n",
       "      <td>tcp</td>\n",
       "      <td>147.32.84.165</td>\n",
       "      <td>4777</td>\n",
       "      <td>-&gt;</td>\n",
       "      <td>218.57.210.214</td>\n",
       "      <td>6667</td>\n",
       "      <td>S_</td>\n",
       "      <td>0.0</td>\n",
       "      <td>NaN</td>\n",
       "      <td>1.0</td>\n",
       "      <td>62.0</td>\n",
       "      <td>62.0</td>\n",
       "      <td>1.0</td>\n",
       "    </tr>\n",
       "  </tbody>\n",
       "</table>\n",
       "<p>11532 rows × 15 columns</p>\n",
       "</div>"
      ],
      "text/plain": [
       "      StartTime       Dur Proto        SrcAddr  Sport    Dir         DstAddr  \\\n",
       "0       46:53.2  0.000000   udp    147.32.80.9     53     ->   147.32.86.111   \n",
       "1       46:54.0  0.000000   udp    147.32.80.9     53     ->   147.32.86.111   \n",
       "2       46:54.5  0.000000   udp    147.32.80.9     53     ->   147.32.86.111   \n",
       "3       46:54.8  0.000291   udp  147.32.84.134  40693    <->     147.32.80.9   \n",
       "4       46:54.8  0.000321   udp  147.32.84.134  47415    <->     147.32.80.9   \n",
       "...         ...       ...   ...            ...    ...    ...             ...   \n",
       "11527   57:02.7  0.018193   tcp  147.32.84.170  55288     ->  209.85.148.105   \n",
       "11528   57:05.4  0.000251   udp  147.32.84.170  54880    <->     147.32.80.9   \n",
       "11529   57:05.4  0.000472   udp  147.32.84.170  41615    <->     147.32.80.9   \n",
       "11530   57:05.4  0.382413   tcp  147.32.84.170  54758     ->   195.24.233.55   \n",
       "11531   57:05.9  0.000000   tcp  147.32.84.165   4777     ->  218.57.210.214   \n",
       "\n",
       "       Dport      State  sTos  dTos  TotPkts  TotBytes  SrcBytes  Label  \n",
       "0      54230        INT   0.0   NaN      1.0     141.0     141.0    0.0  \n",
       "1      58314        INT   0.0   NaN      1.0     247.0     247.0    0.0  \n",
       "2      54823        INT   0.0   NaN      1.0     173.0     173.0    0.0  \n",
       "3         53        CON   0.0   0.0      2.0     207.0      72.0    0.0  \n",
       "4         53        CON   0.0   0.0      2.0     247.0      72.0    0.0  \n",
       "...      ...        ...   ...   ...      ...       ...       ...    ...  \n",
       "11527     80    FSA_FSA   0.0   0.0      6.0     412.0     272.0    0.0  \n",
       "11528     53        CON   0.0   0.0      2.0     244.0      81.0    0.0  \n",
       "11529     53        CON   0.0   0.0      2.0     280.0      81.0    0.0  \n",
       "11530     80  FSPA_FSPA   0.0   0.0     10.0    1218.0     549.0    0.0  \n",
       "11531   6667         S_   0.0   NaN      1.0      62.0      62.0    1.0  \n",
       "\n",
       "[11532 rows x 15 columns]"
      ]
     },
     "execution_count": 287,
     "metadata": {},
     "output_type": "execute_result"
    }
   ],
   "source": [
    "data = pd.read_csv('data.csv')\n",
    "\n",
    "#0: normal, 1: abnormal, 2:background\n",
    "label = []\n",
    "for lb in data['Label']:\n",
    "    if 'Normal' in lb:\n",
    "        label.append(0)\n",
    "    elif 'Botnet' in lb:\n",
    "        label.append(1)\n",
    "    else:\n",
    "        label.append(2)\n",
    "data['Label'] = label\n",
    "\n",
    "#remove background label\n",
    "data = data.where(data['Label'] != 2).dropna(how='all').reset_index(drop=True)\n",
    "data"
   ]
  },
  {
   "cell_type": "code",
   "execution_count": 288,
   "metadata": {},
   "outputs": [
    {
     "data": {
      "text/html": [
       "<div>\n",
       "<style scoped>\n",
       "    .dataframe tbody tr th:only-of-type {\n",
       "        vertical-align: middle;\n",
       "    }\n",
       "\n",
       "    .dataframe tbody tr th {\n",
       "        vertical-align: top;\n",
       "    }\n",
       "\n",
       "    .dataframe thead th {\n",
       "        text-align: right;\n",
       "    }\n",
       "</style>\n",
       "<table border=\"1\" class=\"dataframe\">\n",
       "  <thead>\n",
       "    <tr style=\"text-align: right;\">\n",
       "      <th></th>\n",
       "      <th>Dur</th>\n",
       "      <th>sTos</th>\n",
       "      <th>dTos</th>\n",
       "      <th>TotPkts</th>\n",
       "      <th>TotBytes</th>\n",
       "      <th>SrcBytes</th>\n",
       "      <th>Label</th>\n",
       "    </tr>\n",
       "  </thead>\n",
       "  <tbody>\n",
       "    <tr>\n",
       "      <th>count</th>\n",
       "      <td>11532.000000</td>\n",
       "      <td>11526.0</td>\n",
       "      <td>9737.0</td>\n",
       "      <td>11532.000000</td>\n",
       "      <td>1.153200e+04</td>\n",
       "      <td>11532.000000</td>\n",
       "      <td>11532.000000</td>\n",
       "    </tr>\n",
       "    <tr>\n",
       "      <th>mean</th>\n",
       "      <td>35.906497</td>\n",
       "      <td>0.0</td>\n",
       "      <td>0.0</td>\n",
       "      <td>22.240721</td>\n",
       "      <td>1.561611e+04</td>\n",
       "      <td>1265.028096</td>\n",
       "      <td>0.233524</td>\n",
       "    </tr>\n",
       "    <tr>\n",
       "      <th>std</th>\n",
       "      <td>276.658045</td>\n",
       "      <td>0.0</td>\n",
       "      <td>0.0</td>\n",
       "      <td>245.273054</td>\n",
       "      <td>2.228816e+05</td>\n",
       "      <td>12674.903073</td>\n",
       "      <td>0.423091</td>\n",
       "    </tr>\n",
       "    <tr>\n",
       "      <th>min</th>\n",
       "      <td>0.000000</td>\n",
       "      <td>0.0</td>\n",
       "      <td>0.0</td>\n",
       "      <td>1.000000</td>\n",
       "      <td>6.200000e+01</td>\n",
       "      <td>0.000000</td>\n",
       "      <td>0.000000</td>\n",
       "    </tr>\n",
       "    <tr>\n",
       "      <th>25%</th>\n",
       "      <td>0.000335</td>\n",
       "      <td>0.0</td>\n",
       "      <td>0.0</td>\n",
       "      <td>2.000000</td>\n",
       "      <td>2.140000e+02</td>\n",
       "      <td>74.000000</td>\n",
       "      <td>0.000000</td>\n",
       "    </tr>\n",
       "    <tr>\n",
       "      <th>50%</th>\n",
       "      <td>0.006461</td>\n",
       "      <td>0.0</td>\n",
       "      <td>0.0</td>\n",
       "      <td>2.000000</td>\n",
       "      <td>3.090000e+02</td>\n",
       "      <td>81.000000</td>\n",
       "      <td>0.000000</td>\n",
       "    </tr>\n",
       "    <tr>\n",
       "      <th>75%</th>\n",
       "      <td>1.983675</td>\n",
       "      <td>0.0</td>\n",
       "      <td>0.0</td>\n",
       "      <td>6.000000</td>\n",
       "      <td>4.120000e+02</td>\n",
       "      <td>272.000000</td>\n",
       "      <td>0.000000</td>\n",
       "    </tr>\n",
       "    <tr>\n",
       "      <th>max</th>\n",
       "      <td>3599.390381</td>\n",
       "      <td>0.0</td>\n",
       "      <td>0.0</td>\n",
       "      <td>8066.000000</td>\n",
       "      <td>5.838918e+06</td>\n",
       "      <td>672635.000000</td>\n",
       "      <td>1.000000</td>\n",
       "    </tr>\n",
       "  </tbody>\n",
       "</table>\n",
       "</div>"
      ],
      "text/plain": [
       "                Dur     sTos    dTos       TotPkts      TotBytes  \\\n",
       "count  11532.000000  11526.0  9737.0  11532.000000  1.153200e+04   \n",
       "mean      35.906497      0.0     0.0     22.240721  1.561611e+04   \n",
       "std      276.658045      0.0     0.0    245.273054  2.228816e+05   \n",
       "min        0.000000      0.0     0.0      1.000000  6.200000e+01   \n",
       "25%        0.000335      0.0     0.0      2.000000  2.140000e+02   \n",
       "50%        0.006461      0.0     0.0      2.000000  3.090000e+02   \n",
       "75%        1.983675      0.0     0.0      6.000000  4.120000e+02   \n",
       "max     3599.390381      0.0     0.0   8066.000000  5.838918e+06   \n",
       "\n",
       "            SrcBytes         Label  \n",
       "count   11532.000000  11532.000000  \n",
       "mean     1265.028096      0.233524  \n",
       "std     12674.903073      0.423091  \n",
       "min         0.000000      0.000000  \n",
       "25%        74.000000      0.000000  \n",
       "50%        81.000000      0.000000  \n",
       "75%       272.000000      0.000000  \n",
       "max    672635.000000      1.000000  "
      ]
     },
     "execution_count": 288,
     "metadata": {},
     "output_type": "execute_result"
    }
   ],
   "source": [
    "data.describe()"
   ]
  },
  {
   "cell_type": "code",
   "execution_count": 289,
   "metadata": {},
   "outputs": [],
   "source": [
    "data.drop(columns=['StartTime', 'sTos', 'dTos'], inplace=True)"
   ]
  },
  {
   "cell_type": "code",
   "execution_count": 290,
   "metadata": {},
   "outputs": [
    {
     "data": {
      "text/plain": [
       "Dur         0\n",
       "Proto       0\n",
       "SrcAddr     0\n",
       "Sport       6\n",
       "Dir         0\n",
       "DstAddr     0\n",
       "Dport       6\n",
       "State       0\n",
       "TotPkts     0\n",
       "TotBytes    0\n",
       "SrcBytes    0\n",
       "Label       0\n",
       "dtype: int64"
      ]
     },
     "execution_count": 290,
     "metadata": {},
     "output_type": "execute_result"
    }
   ],
   "source": [
    "data.isnull().sum()"
   ]
  },
  {
   "cell_type": "code",
   "execution_count": 291,
   "metadata": {},
   "outputs": [
    {
     "data": {
      "text/html": [
       "<div>\n",
       "<style scoped>\n",
       "    .dataframe tbody tr th:only-of-type {\n",
       "        vertical-align: middle;\n",
       "    }\n",
       "\n",
       "    .dataframe tbody tr th {\n",
       "        vertical-align: top;\n",
       "    }\n",
       "\n",
       "    .dataframe thead th {\n",
       "        text-align: right;\n",
       "    }\n",
       "</style>\n",
       "<table border=\"1\" class=\"dataframe\">\n",
       "  <thead>\n",
       "    <tr style=\"text-align: right;\">\n",
       "      <th></th>\n",
       "      <th>Dur</th>\n",
       "      <th>Proto</th>\n",
       "      <th>SrcAddr</th>\n",
       "      <th>Sport</th>\n",
       "      <th>Dir</th>\n",
       "      <th>DstAddr</th>\n",
       "      <th>Dport</th>\n",
       "      <th>State</th>\n",
       "      <th>TotPkts</th>\n",
       "      <th>TotBytes</th>\n",
       "      <th>SrcBytes</th>\n",
       "      <th>Label</th>\n",
       "    </tr>\n",
       "  </thead>\n",
       "  <tbody>\n",
       "    <tr>\n",
       "      <th>1709</th>\n",
       "      <td>3599.377197</td>\n",
       "      <td>arp</td>\n",
       "      <td>147.32.87.36</td>\n",
       "      <td>NaN</td>\n",
       "      <td>who</td>\n",
       "      <td>147.32.87.33</td>\n",
       "      <td>NaN</td>\n",
       "      <td>RSP</td>\n",
       "      <td>3.0</td>\n",
       "      <td>180.0</td>\n",
       "      <td>0.0</td>\n",
       "      <td>0.0</td>\n",
       "    </tr>\n",
       "    <tr>\n",
       "      <th>1872</th>\n",
       "      <td>3536.416992</td>\n",
       "      <td>arp</td>\n",
       "      <td>147.32.87.11</td>\n",
       "      <td>NaN</td>\n",
       "      <td>who</td>\n",
       "      <td>147.32.87.1</td>\n",
       "      <td>NaN</td>\n",
       "      <td>CON</td>\n",
       "      <td>8.0</td>\n",
       "      <td>480.0</td>\n",
       "      <td>240.0</td>\n",
       "      <td>0.0</td>\n",
       "    </tr>\n",
       "    <tr>\n",
       "      <th>2538</th>\n",
       "      <td>0.000503</td>\n",
       "      <td>arp</td>\n",
       "      <td>147.32.87.36</td>\n",
       "      <td>NaN</td>\n",
       "      <td>who</td>\n",
       "      <td>147.32.87.1</td>\n",
       "      <td>NaN</td>\n",
       "      <td>CON</td>\n",
       "      <td>2.0</td>\n",
       "      <td>120.0</td>\n",
       "      <td>60.0</td>\n",
       "      <td>0.0</td>\n",
       "    </tr>\n",
       "    <tr>\n",
       "      <th>5639</th>\n",
       "      <td>929.906006</td>\n",
       "      <td>arp</td>\n",
       "      <td>147.32.87.11</td>\n",
       "      <td>NaN</td>\n",
       "      <td>who</td>\n",
       "      <td>147.32.87.1</td>\n",
       "      <td>NaN</td>\n",
       "      <td>CON</td>\n",
       "      <td>4.0</td>\n",
       "      <td>240.0</td>\n",
       "      <td>120.0</td>\n",
       "      <td>0.0</td>\n",
       "    </tr>\n",
       "    <tr>\n",
       "      <th>9008</th>\n",
       "      <td>1800.366211</td>\n",
       "      <td>arp</td>\n",
       "      <td>147.32.87.36</td>\n",
       "      <td>NaN</td>\n",
       "      <td>who</td>\n",
       "      <td>147.32.87.33</td>\n",
       "      <td>NaN</td>\n",
       "      <td>RSP</td>\n",
       "      <td>2.0</td>\n",
       "      <td>120.0</td>\n",
       "      <td>0.0</td>\n",
       "      <td>0.0</td>\n",
       "    </tr>\n",
       "    <tr>\n",
       "      <th>10818</th>\n",
       "      <td>0.000498</td>\n",
       "      <td>arp</td>\n",
       "      <td>147.32.87.36</td>\n",
       "      <td>NaN</td>\n",
       "      <td>who</td>\n",
       "      <td>147.32.87.1</td>\n",
       "      <td>NaN</td>\n",
       "      <td>CON</td>\n",
       "      <td>2.0</td>\n",
       "      <td>120.0</td>\n",
       "      <td>60.0</td>\n",
       "      <td>0.0</td>\n",
       "    </tr>\n",
       "  </tbody>\n",
       "</table>\n",
       "</div>"
      ],
      "text/plain": [
       "               Dur Proto       SrcAddr Sport    Dir       DstAddr Dport State  \\\n",
       "1709   3599.377197   arp  147.32.87.36   NaN    who  147.32.87.33   NaN   RSP   \n",
       "1872   3536.416992   arp  147.32.87.11   NaN    who   147.32.87.1   NaN   CON   \n",
       "2538      0.000503   arp  147.32.87.36   NaN    who   147.32.87.1   NaN   CON   \n",
       "5639    929.906006   arp  147.32.87.11   NaN    who   147.32.87.1   NaN   CON   \n",
       "9008   1800.366211   arp  147.32.87.36   NaN    who  147.32.87.33   NaN   RSP   \n",
       "10818     0.000498   arp  147.32.87.36   NaN    who   147.32.87.1   NaN   CON   \n",
       "\n",
       "       TotPkts  TotBytes  SrcBytes  Label  \n",
       "1709       3.0     180.0       0.0    0.0  \n",
       "1872       8.0     480.0     240.0    0.0  \n",
       "2538       2.0     120.0      60.0    0.0  \n",
       "5639       4.0     240.0     120.0    0.0  \n",
       "9008       2.0     120.0       0.0    0.0  \n",
       "10818      2.0     120.0      60.0    0.0  "
      ]
     },
     "execution_count": 291,
     "metadata": {},
     "output_type": "execute_result"
    }
   ],
   "source": [
    "data.where(data['Sport'].isnull()).dropna(how='all')"
   ]
  },
  {
   "cell_type": "code",
   "execution_count": 292,
   "metadata": {},
   "outputs": [],
   "source": [
    "data.dropna(how='any', inplace=True)"
   ]
  },
  {
   "cell_type": "markdown",
   "metadata": {},
   "source": [
    "2. Exploratory Data Analysis"
   ]
  },
  {
   "cell_type": "code",
   "execution_count": 293,
   "metadata": {},
   "outputs": [],
   "source": [
    "import matplotlib.pyplot as plt\n",
    "import seaborn as sns"
   ]
  },
  {
   "cell_type": "code",
   "execution_count": 294,
   "metadata": {},
   "outputs": [
    {
     "data": {
      "text/plain": [
       "<AxesSubplot:>"
      ]
     },
     "execution_count": 294,
     "metadata": {},
     "output_type": "execute_result"
    },
    {
     "data": {
      "image/png": "[encoded data removed]",
      "text/plain": [
       "<Figure size 640x480 with 2 Axes>"
      ]
     },
     "metadata": {},
     "output_type": "display_data"
    }
   ],
   "source": [
    "sns.heatmap(data.corr(), annot=True)"
   ]
  },
  {
   "cell_type": "code",
   "execution_count": 295,
   "metadata": {},
   "outputs": [
    {
     "data": {
      "text/plain": [
       "<AxesSubplot:xlabel='TotPkts', ylabel='TotBytes'>"
      ]
     },
     "execution_count": 295,
     "metadata": {},
     "output_type": "execute_result"
    },
    {
     "data": {
      "image/png": "[encoded data removed]",
      "text/plain": [
       "<Figure size 640x480 with 1 Axes>"
      ]
     },
     "metadata": {},
     "output_type": "display_data"
    }
   ],
   "source": [
    "sns.regplot(x = data['TotPkts'], y = data['TotBytes'])"
   ]
  },
  {
   "cell_type": "code",
   "execution_count": 296,
   "metadata": {},
   "outputs": [],
   "source": [
    "data.drop(columns=['TotPkts'], inplace=True)"
   ]
  },
  {
   "cell_type": "code",
   "execution_count": 297,
   "metadata": {},
   "outputs": [
    {
     "data": {
      "text/html": [
       "<div>\n",
       "<style scoped>\n",
       "    .dataframe tbody tr th:only-of-type {\n",
       "        vertical-align: middle;\n",
       "    }\n",
       "\n",
       "    .dataframe tbody tr th {\n",
       "        vertical-align: top;\n",
       "    }\n",
       "\n",
       "    .dataframe thead th {\n",
       "        text-align: right;\n",
       "    }\n",
       "</style>\n",
       "<table border=\"1\" class=\"dataframe\">\n",
       "  <thead>\n",
       "    <tr style=\"text-align: right;\">\n",
       "      <th>Dir</th>\n",
       "      <th>-&gt;</th>\n",
       "      <th>?&gt;</th>\n",
       "      <th>&lt;-&gt;</th>\n",
       "      <th>&lt;?&gt;</th>\n",
       "    </tr>\n",
       "    <tr>\n",
       "      <th>Proto</th>\n",
       "      <th></th>\n",
       "      <th></th>\n",
       "      <th></th>\n",
       "      <th></th>\n",
       "    </tr>\n",
       "  </thead>\n",
       "  <tbody>\n",
       "    <tr>\n",
       "      <th>icmp</th>\n",
       "      <td>15</td>\n",
       "      <td>0</td>\n",
       "      <td>0</td>\n",
       "      <td>0</td>\n",
       "    </tr>\n",
       "    <tr>\n",
       "      <th>tcp</th>\n",
       "      <td>5005</td>\n",
       "      <td>4</td>\n",
       "      <td>0</td>\n",
       "      <td>26</td>\n",
       "    </tr>\n",
       "    <tr>\n",
       "      <th>udp</th>\n",
       "      <td>4</td>\n",
       "      <td>0</td>\n",
       "      <td>6472</td>\n",
       "      <td>0</td>\n",
       "    </tr>\n",
       "  </tbody>\n",
       "</table>\n",
       "</div>"
      ],
      "text/plain": [
       "Dir       ->     ?>    <->    <?>\n",
       "Proto                            \n",
       "icmp      15      0      0      0\n",
       "tcp     5005      4      0     26\n",
       "udp        4      0   6472      0"
      ]
     },
     "execution_count": 297,
     "metadata": {},
     "output_type": "execute_result"
    }
   ],
   "source": [
    "table = pd.pivot_table(data.groupby(['Proto', 'Dir']).size().reset_index(), index=['Proto'], columns=['Dir'])\n",
    "# Delete columns with Nan values and convert to integers\n",
    "table.fillna(0, inplace=True)\n",
    "table[0].astype(int)"
   ]
  },
  {
   "cell_type": "code",
   "execution_count": 298,
   "metadata": {},
   "outputs": [],
   "source": [
    "data.drop(columns=['Dir'], inplace=True)"
   ]
  },
  {
   "cell_type": "code",
   "execution_count": 299,
   "metadata": {},
   "outputs": [
    {
     "data": {
      "text/plain": [
       "SrcAddr        Label\n",
       "147.32.80.9    0.0         4\n",
       "147.32.84.134  0.0      1011\n",
       "147.32.84.137  0.0         2\n",
       "147.32.84.15   0.0         3\n",
       "147.32.84.164  0.0      2680\n",
       "147.32.84.165  1.0      2693\n",
       "147.32.84.170  0.0      5058\n",
       "147.32.84.25   0.0         3\n",
       "147.32.84.5    0.0         3\n",
       "147.32.84.59   0.0        14\n",
       "147.32.84.8    0.0         3\n",
       "147.32.86.111  0.0         1\n",
       "147.32.86.140  0.0         1\n",
       "147.32.86.187  0.0         4\n",
       "147.32.86.96   0.0         3\n",
       "147.32.87.212  0.0         2\n",
       "147.32.87.214  0.0         2\n",
       "147.32.87.252  0.0         3\n",
       "147.32.87.36   0.0        36\n",
       "Name: Label, dtype: int64"
      ]
     },
     "execution_count": 299,
     "metadata": {},
     "output_type": "execute_result"
    }
   ],
   "source": [
    "data.groupby(['SrcAddr'])['Label'].value_counts()"
   ]
  },
  {
   "cell_type": "code",
   "execution_count": 300,
   "metadata": {},
   "outputs": [
    {
     "data": {
      "image/png": "[encoded data removed]",
      "text/plain": [
       "<Figure size 640x480 with 1 Axes>"
      ]
     },
     "metadata": {},
     "output_type": "display_data"
    }
   ],
   "source": [
    "plt.pie([2693, 8833], labels = ['147.32.84.165', 'Other IP'], colors=['Cyan', 'Blue'], explode=[0.2 , 0], shadow=True)\n",
    "plt.legend(labels = ['Abnormal', 'Normal'])\n",
    "plt.title('NETWORK LABEL BY SOURCE ADDRESS', fontsize= 17)\n",
    "plt.show()"
   ]
  },
  {
   "cell_type": "code",
   "execution_count": 301,
   "metadata": {},
   "outputs": [],
   "source": [
    "data.drop(columns=['SrcAddr'], inplace=True)"
   ]
  },
  {
   "cell_type": "code",
   "execution_count": 302,
   "metadata": {},
   "outputs": [
    {
     "data": {
      "text/html": [
       "<div>\n",
       "<style scoped>\n",
       "    .dataframe tbody tr th:only-of-type {\n",
       "        vertical-align: middle;\n",
       "    }\n",
       "\n",
       "    .dataframe tbody tr th {\n",
       "        vertical-align: top;\n",
       "    }\n",
       "\n",
       "    .dataframe thead th {\n",
       "        text-align: right;\n",
       "    }\n",
       "</style>\n",
       "<table border=\"1\" class=\"dataframe\">\n",
       "  <thead>\n",
       "    <tr style=\"text-align: right;\">\n",
       "      <th></th>\n",
       "      <th>Proto</th>\n",
       "      <th>Sport</th>\n",
       "      <th>DstAddr</th>\n",
       "      <th>Dport</th>\n",
       "      <th>State</th>\n",
       "    </tr>\n",
       "  </thead>\n",
       "  <tbody>\n",
       "    <tr>\n",
       "      <th>count</th>\n",
       "      <td>11526</td>\n",
       "      <td>11526</td>\n",
       "      <td>11526</td>\n",
       "      <td>11526</td>\n",
       "      <td>11526</td>\n",
       "    </tr>\n",
       "    <tr>\n",
       "      <th>unique</th>\n",
       "      <td>3</td>\n",
       "      <td>9978</td>\n",
       "      <td>891</td>\n",
       "      <td>41</td>\n",
       "      <td>42</td>\n",
       "    </tr>\n",
       "    <tr>\n",
       "      <th>top</th>\n",
       "      <td>udp</td>\n",
       "      <td>1291</td>\n",
       "      <td>147.32.80.9</td>\n",
       "      <td>53</td>\n",
       "      <td>CON</td>\n",
       "    </tr>\n",
       "    <tr>\n",
       "      <th>freq</th>\n",
       "      <td>6476</td>\n",
       "      <td>110</td>\n",
       "      <td>6378</td>\n",
       "      <td>6433</td>\n",
       "      <td>6472</td>\n",
       "    </tr>\n",
       "  </tbody>\n",
       "</table>\n",
       "</div>"
      ],
      "text/plain": [
       "        Proto  Sport      DstAddr  Dport  State\n",
       "count   11526  11526        11526  11526  11526\n",
       "unique      3   9978          891     41     42\n",
       "top       udp   1291  147.32.80.9     53    CON\n",
       "freq     6476    110         6378   6433   6472"
      ]
     },
     "execution_count": 302,
     "metadata": {},
     "output_type": "execute_result"
    }
   ],
   "source": [
    "data.describe(include='object')"
   ]
  },
  {
   "cell_type": "code",
   "execution_count": 350,
   "metadata": {},
   "outputs": [
    {
     "data": {
      "text/html": [
       "<div>\n",
       "<style scoped>\n",
       "    .dataframe tbody tr th:only-of-type {\n",
       "        vertical-align: middle;\n",
       "    }\n",
       "\n",
       "    .dataframe tbody tr th {\n",
       "        vertical-align: top;\n",
       "    }\n",
       "\n",
       "    .dataframe thead th {\n",
       "        text-align: right;\n",
       "    }\n",
       "</style>\n",
       "<table border=\"1\" class=\"dataframe\">\n",
       "  <thead>\n",
       "    <tr style=\"text-align: right;\">\n",
       "      <th></th>\n",
       "      <th>Dur</th>\n",
       "      <th>Sport</th>\n",
       "      <th>TotBytes</th>\n",
       "      <th>SrcBytes</th>\n",
       "      <th>Label</th>\n",
       "      <th>Proto_icmp</th>\n",
       "      <th>Proto_tcp</th>\n",
       "      <th>Proto_udp</th>\n",
       "      <th>DstAddr_1.22.16.143</th>\n",
       "      <th>DstAddr_101.0.32.121</th>\n",
       "      <th>...</th>\n",
       "      <th>State_SRA_SA</th>\n",
       "      <th>State_SRA_SRA</th>\n",
       "      <th>State_SRPA_FSPA</th>\n",
       "      <th>State_SRPA_SA</th>\n",
       "      <th>State_SRPA_SPA</th>\n",
       "      <th>State_SR_SA</th>\n",
       "      <th>State_S_</th>\n",
       "      <th>State_S_FRA</th>\n",
       "      <th>State_S_RA</th>\n",
       "      <th>State_URP</th>\n",
       "    </tr>\n",
       "  </thead>\n",
       "  <tbody>\n",
       "    <tr>\n",
       "      <th>0</th>\n",
       "      <td>0.000000</td>\n",
       "      <td>7964</td>\n",
       "      <td>141.0</td>\n",
       "      <td>141.0</td>\n",
       "      <td>0.0</td>\n",
       "      <td>0</td>\n",
       "      <td>0</td>\n",
       "      <td>1</td>\n",
       "      <td>0</td>\n",
       "      <td>0</td>\n",
       "      <td>...</td>\n",
       "      <td>0</td>\n",
       "      <td>0</td>\n",
       "      <td>0</td>\n",
       "      <td>0</td>\n",
       "      <td>0</td>\n",
       "      <td>0</td>\n",
       "      <td>0</td>\n",
       "      <td>0</td>\n",
       "      <td>0</td>\n",
       "      <td>0</td>\n",
       "    </tr>\n",
       "    <tr>\n",
       "      <th>1</th>\n",
       "      <td>0.000000</td>\n",
       "      <td>7964</td>\n",
       "      <td>247.0</td>\n",
       "      <td>247.0</td>\n",
       "      <td>0.0</td>\n",
       "      <td>0</td>\n",
       "      <td>0</td>\n",
       "      <td>1</td>\n",
       "      <td>0</td>\n",
       "      <td>0</td>\n",
       "      <td>...</td>\n",
       "      <td>0</td>\n",
       "      <td>0</td>\n",
       "      <td>0</td>\n",
       "      <td>0</td>\n",
       "      <td>0</td>\n",
       "      <td>0</td>\n",
       "      <td>0</td>\n",
       "      <td>0</td>\n",
       "      <td>0</td>\n",
       "      <td>0</td>\n",
       "    </tr>\n",
       "    <tr>\n",
       "      <th>2</th>\n",
       "      <td>0.000000</td>\n",
       "      <td>7964</td>\n",
       "      <td>173.0</td>\n",
       "      <td>173.0</td>\n",
       "      <td>0.0</td>\n",
       "      <td>0</td>\n",
       "      <td>0</td>\n",
       "      <td>1</td>\n",
       "      <td>0</td>\n",
       "      <td>0</td>\n",
       "      <td>...</td>\n",
       "      <td>0</td>\n",
       "      <td>0</td>\n",
       "      <td>0</td>\n",
       "      <td>0</td>\n",
       "      <td>0</td>\n",
       "      <td>0</td>\n",
       "      <td>0</td>\n",
       "      <td>0</td>\n",
       "      <td>0</td>\n",
       "      <td>0</td>\n",
       "    </tr>\n",
       "    <tr>\n",
       "      <th>3</th>\n",
       "      <td>0.000291</td>\n",
       "      <td>4360</td>\n",
       "      <td>207.0</td>\n",
       "      <td>72.0</td>\n",
       "      <td>0.0</td>\n",
       "      <td>0</td>\n",
       "      <td>0</td>\n",
       "      <td>1</td>\n",
       "      <td>0</td>\n",
       "      <td>0</td>\n",
       "      <td>...</td>\n",
       "      <td>0</td>\n",
       "      <td>0</td>\n",
       "      <td>0</td>\n",
       "      <td>0</td>\n",
       "      <td>0</td>\n",
       "      <td>0</td>\n",
       "      <td>0</td>\n",
       "      <td>0</td>\n",
       "      <td>0</td>\n",
       "      <td>0</td>\n",
       "    </tr>\n",
       "    <tr>\n",
       "      <th>4</th>\n",
       "      <td>0.000321</td>\n",
       "      <td>6297</td>\n",
       "      <td>247.0</td>\n",
       "      <td>72.0</td>\n",
       "      <td>0.0</td>\n",
       "      <td>0</td>\n",
       "      <td>0</td>\n",
       "      <td>1</td>\n",
       "      <td>0</td>\n",
       "      <td>0</td>\n",
       "      <td>...</td>\n",
       "      <td>0</td>\n",
       "      <td>0</td>\n",
       "      <td>0</td>\n",
       "      <td>0</td>\n",
       "      <td>0</td>\n",
       "      <td>0</td>\n",
       "      <td>0</td>\n",
       "      <td>0</td>\n",
       "      <td>0</td>\n",
       "      <td>0</td>\n",
       "    </tr>\n",
       "    <tr>\n",
       "      <th>...</th>\n",
       "      <td>...</td>\n",
       "      <td>...</td>\n",
       "      <td>...</td>\n",
       "      <td>...</td>\n",
       "      <td>...</td>\n",
       "      <td>...</td>\n",
       "      <td>...</td>\n",
       "      <td>...</td>\n",
       "      <td>...</td>\n",
       "      <td>...</td>\n",
       "      <td>...</td>\n",
       "      <td>...</td>\n",
       "      <td>...</td>\n",
       "      <td>...</td>\n",
       "      <td>...</td>\n",
       "      <td>...</td>\n",
       "      <td>...</td>\n",
       "      <td>...</td>\n",
       "      <td>...</td>\n",
       "      <td>...</td>\n",
       "      <td>...</td>\n",
       "    </tr>\n",
       "    <tr>\n",
       "      <th>11527</th>\n",
       "      <td>0.018193</td>\n",
       "      <td>8538</td>\n",
       "      <td>412.0</td>\n",
       "      <td>272.0</td>\n",
       "      <td>0.0</td>\n",
       "      <td>0</td>\n",
       "      <td>1</td>\n",
       "      <td>0</td>\n",
       "      <td>0</td>\n",
       "      <td>0</td>\n",
       "      <td>...</td>\n",
       "      <td>0</td>\n",
       "      <td>0</td>\n",
       "      <td>0</td>\n",
       "      <td>0</td>\n",
       "      <td>0</td>\n",
       "      <td>0</td>\n",
       "      <td>0</td>\n",
       "      <td>0</td>\n",
       "      <td>0</td>\n",
       "      <td>0</td>\n",
       "    </tr>\n",
       "    <tr>\n",
       "      <th>11528</th>\n",
       "      <td>0.000251</td>\n",
       "      <td>8440</td>\n",
       "      <td>244.0</td>\n",
       "      <td>81.0</td>\n",
       "      <td>0.0</td>\n",
       "      <td>0</td>\n",
       "      <td>0</td>\n",
       "      <td>1</td>\n",
       "      <td>0</td>\n",
       "      <td>0</td>\n",
       "      <td>...</td>\n",
       "      <td>0</td>\n",
       "      <td>0</td>\n",
       "      <td>0</td>\n",
       "      <td>0</td>\n",
       "      <td>0</td>\n",
       "      <td>0</td>\n",
       "      <td>0</td>\n",
       "      <td>0</td>\n",
       "      <td>0</td>\n",
       "      <td>0</td>\n",
       "    </tr>\n",
       "    <tr>\n",
       "      <th>11529</th>\n",
       "      <td>0.000472</td>\n",
       "      <td>4622</td>\n",
       "      <td>280.0</td>\n",
       "      <td>81.0</td>\n",
       "      <td>0.0</td>\n",
       "      <td>0</td>\n",
       "      <td>0</td>\n",
       "      <td>1</td>\n",
       "      <td>0</td>\n",
       "      <td>0</td>\n",
       "      <td>...</td>\n",
       "      <td>0</td>\n",
       "      <td>0</td>\n",
       "      <td>0</td>\n",
       "      <td>0</td>\n",
       "      <td>0</td>\n",
       "      <td>0</td>\n",
       "      <td>0</td>\n",
       "      <td>0</td>\n",
       "      <td>0</td>\n",
       "      <td>0</td>\n",
       "    </tr>\n",
       "    <tr>\n",
       "      <th>11530</th>\n",
       "      <td>0.382413</td>\n",
       "      <td>8415</td>\n",
       "      <td>1218.0</td>\n",
       "      <td>549.0</td>\n",
       "      <td>0.0</td>\n",
       "      <td>0</td>\n",
       "      <td>1</td>\n",
       "      <td>0</td>\n",
       "      <td>0</td>\n",
       "      <td>0</td>\n",
       "      <td>...</td>\n",
       "      <td>0</td>\n",
       "      <td>0</td>\n",
       "      <td>0</td>\n",
       "      <td>0</td>\n",
       "      <td>0</td>\n",
       "      <td>0</td>\n",
       "      <td>0</td>\n",
       "      <td>0</td>\n",
       "      <td>0</td>\n",
       "      <td>0</td>\n",
       "    </tr>\n",
       "    <tr>\n",
       "      <th>11531</th>\n",
       "      <td>0.000000</td>\n",
       "      <td>6399</td>\n",
       "      <td>62.0</td>\n",
       "      <td>62.0</td>\n",
       "      <td>1.0</td>\n",
       "      <td>0</td>\n",
       "      <td>1</td>\n",
       "      <td>0</td>\n",
       "      <td>0</td>\n",
       "      <td>0</td>\n",
       "      <td>...</td>\n",
       "      <td>0</td>\n",
       "      <td>0</td>\n",
       "      <td>0</td>\n",
       "      <td>0</td>\n",
       "      <td>0</td>\n",
       "      <td>0</td>\n",
       "      <td>1</td>\n",
       "      <td>0</td>\n",
       "      <td>0</td>\n",
       "      <td>0</td>\n",
       "    </tr>\n",
       "  </tbody>\n",
       "</table>\n",
       "<p>11526 rows × 982 columns</p>\n",
       "</div>"
      ],
      "text/plain": [
       "            Dur  Sport  TotBytes  SrcBytes  Label  Proto_icmp  Proto_tcp  \\\n",
       "0      0.000000   7964     141.0     141.0    0.0           0          0   \n",
       "1      0.000000   7964     247.0     247.0    0.0           0          0   \n",
       "2      0.000000   7964     173.0     173.0    0.0           0          0   \n",
       "3      0.000291   4360     207.0      72.0    0.0           0          0   \n",
       "4      0.000321   6297     247.0      72.0    0.0           0          0   \n",
       "...         ...    ...       ...       ...    ...         ...        ...   \n",
       "11527  0.018193   8538     412.0     272.0    0.0           0          1   \n",
       "11528  0.000251   8440     244.0      81.0    0.0           0          0   \n",
       "11529  0.000472   4622     280.0      81.0    0.0           0          0   \n",
       "11530  0.382413   8415    1218.0     549.0    0.0           0          1   \n",
       "11531  0.000000   6399      62.0      62.0    1.0           0          1   \n",
       "\n",
       "       Proto_udp  DstAddr_1.22.16.143  DstAddr_101.0.32.121  ...  \\\n",
       "0              1                    0                     0  ...   \n",
       "1              1                    0                     0  ...   \n",
       "2              1                    0                     0  ...   \n",
       "3              1                    0                     0  ...   \n",
       "4              1                    0                     0  ...   \n",
       "...          ...                  ...                   ...  ...   \n",
       "11527          0                    0                     0  ...   \n",
       "11528          1                    0                     0  ...   \n",
       "11529          1                    0                     0  ...   \n",
       "11530          0                    0                     0  ...   \n",
       "11531          0                    0                     0  ...   \n",
       "\n",
       "       State_SRA_SA  State_SRA_SRA  State_SRPA_FSPA  State_SRPA_SA  \\\n",
       "0                 0              0                0              0   \n",
       "1                 0              0                0              0   \n",
       "2                 0              0                0              0   \n",
       "3                 0              0                0              0   \n",
       "4                 0              0                0              0   \n",
       "...             ...            ...              ...            ...   \n",
       "11527             0              0                0              0   \n",
       "11528             0              0                0              0   \n",
       "11529             0              0                0              0   \n",
       "11530             0              0                0              0   \n",
       "11531             0              0                0              0   \n",
       "\n",
       "       State_SRPA_SPA  State_SR_SA  State_S_  State_S_FRA  State_S_RA  \\\n",
       "0                   0            0         0            0           0   \n",
       "1                   0            0         0            0           0   \n",
       "2                   0            0         0            0           0   \n",
       "3                   0            0         0            0           0   \n",
       "4                   0            0         0            0           0   \n",
       "...               ...          ...       ...          ...         ...   \n",
       "11527               0            0         0            0           0   \n",
       "11528               0            0         0            0           0   \n",
       "11529               0            0         0            0           0   \n",
       "11530               0            0         0            0           0   \n",
       "11531               0            0         1            0           0   \n",
       "\n",
       "       State_URP  \n",
       "0              0  \n",
       "1              0  \n",
       "2              0  \n",
       "3              0  \n",
       "4              0  \n",
       "...          ...  \n",
       "11527          0  \n",
       "11528          0  \n",
       "11529          0  \n",
       "11530          0  \n",
       "11531          0  \n",
       "\n",
       "[11526 rows x 982 columns]"
      ]
     },
     "execution_count": 350,
     "metadata": {},
     "output_type": "execute_result"
    }
   ],
   "source": [
    "from sklearn import preprocessing\n",
    "\n",
    "le = preprocessing.LabelEncoder()\n",
    "data['Sport'] = le.fit_transform(data['Sport'])\n",
    "data = pd.get_dummies(data)\n",
    "data"
   ]
  },
  {
   "cell_type": "code",
   "execution_count": 305,
   "metadata": {},
   "outputs": [
    {
     "data": {
      "text/plain": [
       "0.0    8833\n",
       "1.0    2693\n",
       "Name: Label, dtype: int64"
      ]
     },
     "execution_count": 305,
     "metadata": {},
     "output_type": "execute_result"
    }
   ],
   "source": [
    "data['Label'].value_counts()"
   ]
  },
  {
   "cell_type": "code",
   "execution_count": 306,
   "metadata": {},
   "outputs": [
    {
     "data": {
      "image/png": "[encoded data removed]",
      "text/plain": [
       "<Figure size 640x480 with 1 Axes>"
      ]
     },
     "metadata": {},
     "output_type": "display_data"
    }
   ],
   "source": [
    "plt.bar(['Normal', 'Abnormal'], [8833, 2693])\n",
    "plt.show()"
   ]
  },
  {
   "cell_type": "code",
   "execution_count": 307,
   "metadata": {},
   "outputs": [],
   "source": [
    "sss = StratifiedShuffleSplit(n_splits=1, test_size=0.2, random_state=0)\n",
    "\n",
    "for i, (train_index, test_index) in enumerate(sss.split(data.drop(columns='Label'), data['Label'])):\n",
    "    train = data.iloc[train_index].reset_index(drop=True)\n",
    "    test_valid = data.iloc[test_index].reset_index(drop=True)"
   ]
  },
  {
   "cell_type": "code",
   "execution_count": 308,
   "metadata": {},
   "outputs": [],
   "source": [
    "sss = StratifiedShuffleSplit(n_splits=1, test_size=0.5, random_state=0)\n",
    "\n",
    "for i, (test_index, valid_index) in enumerate(sss.split(test_valid.drop(columns='Label'), test_valid['Label'])):\n",
    "    test = test_valid.iloc[test_index].reset_index(drop=True)\n",
    "    valid = test_valid.iloc[valid_index].reset_index(drop=True)"
   ]
  },
  {
   "cell_type": "code",
   "execution_count": 310,
   "metadata": {},
   "outputs": [
    {
     "name": "stdout",
     "output_type": "stream",
     "text": [
      "Train data: 80%\n",
      "0.0    0.766377\n",
      "1.0    0.233623\n",
      "Name: Label, dtype: float64\n",
      "\n",
      "Validation data: 10%\n",
      "0.0    0.766696\n",
      "1.0    0.233304\n",
      "Name: Label, dtype: float64\n",
      "\n",
      "Test data: 10%\n",
      "0.0    0.765828\n",
      "1.0    0.234172\n",
      "Name: Label, dtype: float64\n"
     ]
    }
   ],
   "source": [
    "print('Train data: ' + str(round(len(train)/len(data)*100)) + '%')\n",
    "print(train['Label'].value_counts() / len(train))\n",
    "print()\n",
    "print('Validation data: ' + str(round(len(valid)/len(data)*100)) + '%')\n",
    "print(valid['Label'].value_counts() / len(valid))\n",
    "print()\n",
    "print('Test data: ' + str(round(len(test)/len(data)*100)) + '%')\n",
    "print(test['Label'].value_counts() / len(test))\n"
   ]
  },
  {
   "cell_type": "markdown",
   "metadata": {},
   "source": [
    "3. Model"
   ]
  },
  {
   "cell_type": "code",
   "execution_count": 311,
   "metadata": {},
   "outputs": [],
   "source": [
    "X_train = train.drop(columns='Label').to_numpy()\n",
    "y_train = train['Label']\n",
    "\n",
    "X_valid = valid.drop(columns='Label').to_numpy()\n",
    "y_valid = valid['Label']\n",
    "\n",
    "X_test = test.drop(columns='Label').to_numpy()\n",
    "y_test = test['Label']"
   ]
  },
  {
   "cell_type": "code",
   "execution_count": 321,
   "metadata": {},
   "outputs": [],
   "source": [
    "from xgboost import XGBClassifier\n",
    "from sklearn.linear_model import LogisticRegression\n",
    "from sklearn import neighbors\n",
    "from sklearn.metrics import accuracy_score"
   ]
  },
  {
   "cell_type": "code",
   "execution_count": 391,
   "metadata": {},
   "outputs": [
    {
     "data": {
      "text/plain": [
       "(1.0, 1.0)"
      ]
     },
     "execution_count": 391,
     "metadata": {},
     "output_type": "execute_result"
    }
   ],
   "source": [
    "xgb_model = XGBClassifier(learning_rate = 0.3,\n",
    "                        n_estimators = 100,\n",
    "                        max_depth = 6,\n",
    "                        random_state=97)\n",
    "xgb_model.fit(X_train, y_train)\n",
    "accuracy_score(xgb_model.predict(X_train), y_train), accuracy_score(xgb_model.predict(X_valid), y_valid)"
   ]
  },
  {
   "cell_type": "code",
   "execution_count": 407,
   "metadata": {},
   "outputs": [
    {
     "data": {
      "image/png": "[encoded data removed]",
      "text/plain": [
       "<Figure size 640x480 with 1 Axes>"
      ]
     },
     "metadata": {},
     "output_type": "display_data"
    }
   ],
   "source": [
    "C = [i*0.1 for i in range(1, 50)]\n",
    "lr_train_acu = []\n",
    "lr_valid_acu = []\n",
    "for c in C:\n",
    "    lr_model = LogisticRegression(penalty='l1', solver='liblinear', C=c, random_state=97)\n",
    "    lr_model.fit(X_train, y_train)\n",
    "    lr_train_acu.append(accuracy_score(lr_model.predict(X_train), y_train))\n",
    "    lr_valid_acu.append(accuracy_score(lr_model.predict(X_valid), y_valid))\n",
    "\n",
    "plt.plot(C, lr_train_acu, label='Train')\n",
    "plt.plot(C, lr_valid_acu, label='Valid')\n",
    "plt.title('Accuracy score by C parameter')\n",
    "plt.xlabel('C parameter')\n",
    "plt.ylabel('Accuracy')\n",
    "plt.legend()\n",
    "plt.show()"
   ]
  },
  {
   "cell_type": "code",
   "execution_count": 414,
   "metadata": {},
   "outputs": [
    {
     "data": {
      "text/plain": [
       "2.0"
      ]
     },
     "execution_count": 414,
     "metadata": {},
     "output_type": "execute_result"
    }
   ],
   "source": [
    "C[lr_valid_acu.index(max(lr_valid_acu))]\n",
    "#C = 2"
   ]
  },
  {
   "cell_type": "code",
   "execution_count": 408,
   "metadata": {},
   "outputs": [
    {
     "data": {
      "image/png": "[encoded data removed]",
      "text/plain": [
       "<Figure size 640x480 with 1 Axes>"
      ]
     },
     "metadata": {},
     "output_type": "display_data"
    }
   ],
   "source": [
    "num_neighbors = [i for i in range(1, 11)]\n",
    "KNN_train_acu = []\n",
    "KNN_valid_acu = []\n",
    "for n in num_neighbors:\n",
    "    KNN_model = neighbors.KNeighborsClassifier(weights='distance', algorithm='brute', n_neighbors=n)\n",
    "    KNN_model.fit(X_train, y_train)\n",
    "    KNN_train_acu.append(accuracy_score(KNN_model.predict(X_train), y_train))\n",
    "    KNN_valid_acu.append(accuracy_score(KNN_model.predict(X_valid), y_valid))\n",
    "\n",
    "plt.plot(num_neighbors, KNN_train_acu, label='Train')\n",
    "plt.plot(num_neighbors, KNN_valid_acu, label='Valid')\n",
    "plt.title('Accuracy score by number of neighbors')\n",
    "plt.xlabel('n_neighbor')\n",
    "plt.ylabel('Accuracy')\n",
    "plt.legend()\n",
    "plt.show()"
   ]
  },
  {
   "cell_type": "code",
   "execution_count": 416,
   "metadata": {},
   "outputs": [
    {
     "data": {
      "text/plain": [
       "1"
      ]
     },
     "execution_count": 416,
     "metadata": {},
     "output_type": "execute_result"
    }
   ],
   "source": [
    "num_neighbors[KNN_valid_acu.index(max(KNN_valid_acu))]\n",
    "#n_neighbors = 1"
   ]
  },
  {
   "cell_type": "markdown",
   "metadata": {},
   "source": [
    "4. Evaluation"
   ]
  },
  {
   "cell_type": "code",
   "execution_count": 417,
   "metadata": {},
   "outputs": [
    {
     "data": {
      "text/plain": [
       "XGBClassifier(base_score=0.5, booster='gbtree', callbacks=None,\n",
       "              colsample_bylevel=1, colsample_bynode=1, colsample_bytree=1,\n",
       "              early_stopping_rounds=None, enable_categorical=False,\n",
       "              eval_metric=None, gamma=0, gpu_id=-1, grow_policy='depthwise',\n",
       "              importance_type=None, interaction_constraints='',\n",
       "              learning_rate=0.3, max_bin=256, max_cat_to_onehot=4,\n",
       "              max_delta_step=0, max_depth=6, max_leaves=0, min_child_weight=1,\n",
       "              missing=nan, monotone_constraints='()', n_estimators=100,\n",
       "              n_jobs=0, num_parallel_tree=1, predictor='auto', random_state=97,\n",
       "              reg_alpha=0, reg_lambda=1, ...)"
      ]
     },
     "execution_count": 417,
     "metadata": {},
     "output_type": "execute_result"
    }
   ],
   "source": [
    "xgb_model = XGBClassifier(learning_rate = 0.3,\n",
    "                        n_estimators = 100,\n",
    "                        max_depth = 6,\n",
    "                        random_state=97)\n",
    "xgb_model.fit(X_train, y_train)"
   ]
  },
  {
   "cell_type": "code",
   "execution_count": 423,
   "metadata": {},
   "outputs": [
    {
     "data": {
      "text/plain": [
       "1.0"
      ]
     },
     "execution_count": 423,
     "metadata": {},
     "output_type": "execute_result"
    }
   ],
   "source": [
    "accuracy_score(xgb_model.predict(X_train), y_train)"
   ]
  },
  {
   "cell_type": "code",
   "execution_count": 424,
   "metadata": {},
   "outputs": [
    {
     "data": {
      "text/plain": [
       "1.0"
      ]
     },
     "execution_count": 424,
     "metadata": {},
     "output_type": "execute_result"
    }
   ],
   "source": [
    "accuracy_score(xgb_model.predict(X_test), y_test)"
   ]
  },
  {
   "cell_type": "code",
   "execution_count": 429,
   "metadata": {},
   "outputs": [
    {
     "data": {
      "text/plain": [
       "LogisticRegression(C=2, penalty='l1', random_state=97, solver='liblinear')"
      ]
     },
     "execution_count": 429,
     "metadata": {},
     "output_type": "execute_result"
    }
   ],
   "source": [
    "lr_model = LogisticRegression(penalty='l1',\n",
    "                            solver='liblinear',\n",
    "                            C=2, \n",
    "                            random_state=97)\n",
    "lr_model.fit(X_train, y_train)"
   ]
  },
  {
   "cell_type": "code",
   "execution_count": 430,
   "metadata": {},
   "outputs": [
    {
     "data": {
      "text/plain": [
       "0.9988069414316703"
      ]
     },
     "execution_count": 430,
     "metadata": {},
     "output_type": "execute_result"
    }
   ],
   "source": [
    "accuracy_score(lr_model.predict(X_train), y_train)"
   ]
  },
  {
   "cell_type": "code",
   "execution_count": 431,
   "metadata": {},
   "outputs": [
    {
     "data": {
      "text/plain": [
       "0.9956634865568084"
      ]
     },
     "execution_count": 431,
     "metadata": {},
     "output_type": "execute_result"
    }
   ],
   "source": [
    "accuracy_score(lr_model.predict(X_test), y_test)"
   ]
  },
  {
   "cell_type": "code",
   "execution_count": 432,
   "metadata": {},
   "outputs": [
    {
     "data": {
      "text/plain": [
       "KNeighborsClassifier(algorithm='brute', n_neighbors=1, weights='distance')"
      ]
     },
     "execution_count": 432,
     "metadata": {},
     "output_type": "execute_result"
    }
   ],
   "source": [
    "KNN_model = neighbors.KNeighborsClassifier(weights='distance',\n",
    "                                        algorithm='brute',\n",
    "                                        n_neighbors=1)\n",
    "KNN_model.fit(X_train, y_train)"
   ]
  },
  {
   "cell_type": "code",
   "execution_count": 433,
   "metadata": {},
   "outputs": [
    {
     "data": {
      "text/plain": [
       "1.0"
      ]
     },
     "execution_count": 433,
     "metadata": {},
     "output_type": "execute_result"
    }
   ],
   "source": [
    "accuracy_score(KNN_model.predict(X_train), y_train)"
   ]
  },
  {
   "cell_type": "code",
   "execution_count": 434,
   "metadata": {},
   "outputs": [
    {
     "data": {
      "text/plain": [
       "0.9878577623590633"
      ]
     },
     "execution_count": 434,
     "metadata": {},
     "output_type": "execute_result"
    }
   ],
   "source": [
    "accuracy_score(KNN_model.predict(X_test), y_test)"
   ]
  },
  {
   "cell_type": "code",
   "execution_count": 435,
   "metadata": {},
   "outputs": [
    {
     "data": {
      "text/html": [
       "<div>\n",
       "<style scoped>\n",
       "    .dataframe tbody tr th:only-of-type {\n",
       "        vertical-align: middle;\n",
       "    }\n",
       "\n",
       "    .dataframe tbody tr th {\n",
       "        vertical-align: top;\n",
       "    }\n",
       "\n",
       "    .dataframe thead th {\n",
       "        text-align: right;\n",
       "    }\n",
       "</style>\n",
       "<table border=\"1\" class=\"dataframe\">\n",
       "  <thead>\n",
       "    <tr style=\"text-align: right;\">\n",
       "      <th></th>\n",
       "      <th>Model</th>\n",
       "      <th>Train accuracy</th>\n",
       "      <th>Test accuracy</th>\n",
       "      <th>Train time</th>\n",
       "      <th>Predict time</th>\n",
       "    </tr>\n",
       "  </thead>\n",
       "  <tbody>\n",
       "    <tr>\n",
       "      <th>0</th>\n",
       "      <td>XGboost</td>\n",
       "      <td>1.0000</td>\n",
       "      <td>1.0000</td>\n",
       "      <td>8.7s</td>\n",
       "      <td>trivial</td>\n",
       "    </tr>\n",
       "    <tr>\n",
       "      <th>1</th>\n",
       "      <td>Logistic Regression</td>\n",
       "      <td>0.9988</td>\n",
       "      <td>0.9957</td>\n",
       "      <td>0.2s</td>\n",
       "      <td>trivial</td>\n",
       "    </tr>\n",
       "    <tr>\n",
       "      <th>2</th>\n",
       "      <td>KNN</td>\n",
       "      <td>1.0000</td>\n",
       "      <td>0.9879</td>\n",
       "      <td>trivial</td>\n",
       "      <td>0.4s</td>\n",
       "    </tr>\n",
       "  </tbody>\n",
       "</table>\n",
       "</div>"
      ],
      "text/plain": [
       "                 Model  Train accuracy  Test accuracy Train time Predict time\n",
       "0              XGboost          1.0000         1.0000       8.7s      trivial\n",
       "1  Logistic Regression          0.9988         0.9957       0.2s      trivial\n",
       "2                  KNN          1.0000         0.9879    trivial         0.4s"
      ]
     },
     "execution_count": 435,
     "metadata": {},
     "output_type": "execute_result"
    }
   ],
   "source": [
    "dict = {'Model':['XGboost', 'Logistic Regression', 'KNN'],\n",
    "        'Train accuracy':[1.0, 0.9988, 1.0],\n",
    "        'Test accuracy':[1.0, 0.9957, 0.9879],\n",
    "        'Train time':['8.7s', '0.2s', 'trivial'],\n",
    "        'Predict time':['trivial', 'trivial', '0.4s']\n",
    "       }\n",
    "result = pd.DataFrame(dict)\n",
    "result"
   ]
  }
 ],
 "metadata": {
  "kernelspec": {
   "display_name": "Python 3",
   "language": "python",
   "name": "python3"
  },
  "language_info": {
   "codemirror_mode": {
    "name": "ipython",
    "version": 3
   },
   "file_extension": ".py",
   "mimetype": "text/x-python",
   "name": "python",
   "nbconvert_exporter": "python",
   "pygments_lexer": "ipython3",
   "version": "3.7.9"
  },
  "orig_nbformat": 4
 },
 "nbformat": 4,
 "nbformat_minor": 2
}
